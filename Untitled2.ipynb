{
  "nbformat": 4,
  "nbformat_minor": 0,
  "metadata": {
    "colab": {
      "name": "Untitled2.ipynb",
      "provenance": [],
      "authorship_tag": "ABX9TyMitl7JXQRte3gXi8vl0yIQ",
      "include_colab_link": true
    },
    "kernelspec": {
      "name": "python3",
      "display_name": "Python 3"
    },
    "language_info": {
      "name": "python"
    }
  },
  "cells": [
    {
      "cell_type": "markdown",
      "metadata": {
        "id": "view-in-github",
        "colab_type": "text"
      },
      "source": [
        "<a href=\"https://colab.research.google.com/github/PowerImagination/-Bouncy-Ball-processing.js/blob/master/Untitled2.ipynb\" target=\"_parent\"><img src=\"https://colab.research.google.com/assets/colab-badge.svg\" alt=\"Open In Colab\"/></a>"
      ]
    },
    {
      "cell_type": "code",
      "metadata": {
        "colab": {
          "base_uri": "https://localhost:8080/"
        },
        "id": "U69NAmH9jlez",
        "outputId": "8431a2f2-f1ba-4657-f1cc-e87864a34039"
      },
      "source": [
        "! git clone https://github.com/mfcharaf/LinuxRdp.git​\n",
        "\n"
      ],
      "execution_count": 8,
      "outputs": [
        {
          "output_type": "stream",
          "text": [
            "Cloning into 'LinuxRdp.git​'...\n",
            "fatal: unable to access 'https://github.com/mfcharaf/LinuxRdp.git​/': The requested URL returned error: 400\n"
          ],
          "name": "stdout"
        }
      ]
    }
  ]
}